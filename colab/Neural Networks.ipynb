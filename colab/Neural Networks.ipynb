{
 "cells": [
  {
   "cell_type": "markdown",
   "metadata": {
    "id": "ih-4mKMohW9Z"
   },
   "source": [
    "# Neural Networks"
   ]
  },
  {
   "cell_type": "code",
   "execution_count": 1,
   "metadata": {
    "colab": {
     "base_uri": "https://localhost:8080/"
    },
    "executionInfo": {
     "elapsed": 9323,
     "status": "ok",
     "timestamp": 1727424496015,
     "user": {
      "displayName": "Christoph Baldow",
      "userId": "09826432869591811259"
     },
     "user_tz": -120
    },
    "id": "RbMiXaBrhV_h",
    "outputId": "f800938d-ec2c-4924-f223-38678f071416"
   },
   "outputs": [
    {
     "name": "stdout",
     "output_type": "stream",
     "text": [
      "Requirement already satisfied: torch in /Users/viktor/.local/share/virtualenvs/colab-4cq3VVoA/lib/python3.10/site-packages (2.4.1)\n",
      "Requirement already satisfied: filelock in /Users/viktor/.local/share/virtualenvs/colab-4cq3VVoA/lib/python3.10/site-packages (from torch) (3.16.1)\n",
      "Requirement already satisfied: typing-extensions>=4.8.0 in /Users/viktor/.local/share/virtualenvs/colab-4cq3VVoA/lib/python3.10/site-packages (from torch) (4.12.2)\n",
      "Requirement already satisfied: sympy in /Users/viktor/.local/share/virtualenvs/colab-4cq3VVoA/lib/python3.10/site-packages (from torch) (1.13.3)\n",
      "Requirement already satisfied: networkx in /Users/viktor/.local/share/virtualenvs/colab-4cq3VVoA/lib/python3.10/site-packages (from torch) (3.3)\n",
      "Requirement already satisfied: jinja2 in /Users/viktor/.local/share/virtualenvs/colab-4cq3VVoA/lib/python3.10/site-packages (from torch) (3.1.4)\n",
      "Requirement already satisfied: fsspec in /Users/viktor/.local/share/virtualenvs/colab-4cq3VVoA/lib/python3.10/site-packages (from torch) (2024.9.0)\n",
      "Requirement already satisfied: MarkupSafe>=2.0 in /Users/viktor/.local/share/virtualenvs/colab-4cq3VVoA/lib/python3.10/site-packages (from jinja2->torch) (2.1.5)\n",
      "Requirement already satisfied: mpmath<1.4,>=1.1.0 in /Users/viktor/.local/share/virtualenvs/colab-4cq3VVoA/lib/python3.10/site-packages (from sympy->torch) (1.3.0)\n",
      "Requirement already satisfied: numpy in /Users/viktor/.local/share/virtualenvs/colab-4cq3VVoA/lib/python3.10/site-packages (2.1.1)\n",
      "Requirement already satisfied: pandas in /Users/viktor/.local/share/virtualenvs/colab-4cq3VVoA/lib/python3.10/site-packages (2.2.3)\n",
      "Requirement already satisfied: numpy>=1.22.4 in /Users/viktor/.local/share/virtualenvs/colab-4cq3VVoA/lib/python3.10/site-packages (from pandas) (2.1.1)\n",
      "Requirement already satisfied: python-dateutil>=2.8.2 in /Users/viktor/.local/share/virtualenvs/colab-4cq3VVoA/lib/python3.10/site-packages (from pandas) (2.9.0.post0)\n",
      "Requirement already satisfied: pytz>=2020.1 in /Users/viktor/.local/share/virtualenvs/colab-4cq3VVoA/lib/python3.10/site-packages (from pandas) (2024.2)\n",
      "Requirement already satisfied: tzdata>=2022.7 in /Users/viktor/.local/share/virtualenvs/colab-4cq3VVoA/lib/python3.10/site-packages (from pandas) (2024.2)\n",
      "Requirement already satisfied: six>=1.5 in /Users/viktor/.local/share/virtualenvs/colab-4cq3VVoA/lib/python3.10/site-packages (from python-dateutil>=2.8.2->pandas) (1.16.0)\n"
     ]
    }
   ],
   "source": [
    "!pip install torch\n",
    "!pip install numpy\n",
    "!pip install pandas"
   ]
  },
  {
   "cell_type": "markdown",
   "metadata": {
    "id": "nyiPAz5ZiAHe"
   },
   "source": [
    "### Linear Regression"
   ]
  },
  {
   "cell_type": "code",
   "execution_count": null,
   "metadata": {},
   "outputs": [],
   "source": []
  }
 ],
 "metadata": {
  "colab": {
   "authorship_tag": "ABX9TyN/2LKRRewSClpUwkOMtbfx",
   "provenance": [],
   "toc_visible": true
  },
  "kernelspec": {
   "display_name": "Python 3 (ipykernel)",
   "language": "python",
   "name": "python3"
  },
  "language_info": {
   "codemirror_mode": {
    "name": "ipython",
    "version": 3
   },
   "file_extension": ".py",
   "mimetype": "text/x-python",
   "name": "python",
   "nbconvert_exporter": "python",
   "pygments_lexer": "ipython3",
   "version": "3.10.13"
  }
 },
 "nbformat": 4,
 "nbformat_minor": 4
}
