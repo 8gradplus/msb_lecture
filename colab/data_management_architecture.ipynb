{
 "cells": [
  {
   "cell_type": "markdown",
   "metadata": {},
   "source": [
    "# Choosing the Optimal Data Management Architecture\n",
    "\n",
    "## Background\n",
    "\n",
    "In this exercise, you will act as a data engineer tasked with recommending the most cost-efficient data management architecture for a company. The company generates and uses data in various ways, and the decision must be made considering only the costs of storage, data transfer, querying, maintenance/administration, and data source acquisition, along with the frequency of these operations. In this exercise, we focus only on costs.\n",
    "In real-life scenarios, cost is not the only factor and trade-offs have to be made.\n",
    "\n",
    "The company is deciding between:\n",
    "1. Data Warehouse\n",
    "2.\tData Lake\n",
    "3.\tHybrid Data Lake\n",
    "4.\tLakehouse\n",
    "\n",
    "Each architecture has different cost structures and performance trade-offs."
   ]
  },
  {
   "cell_type": "markdown",
   "metadata": {},
   "source": [
    "In the following pandas dataframe the costs for the here considered operations are provided."
   ]
  },
  {
   "cell_type": "code",
   "execution_count": 64,
   "metadata": {},
   "outputs": [
    {
     "data": {
      "text/html": [
       "<div>\n",
       "<style scoped>\n",
       "    .dataframe tbody tr th:only-of-type {\n",
       "        vertical-align: middle;\n",
       "    }\n",
       "\n",
       "    .dataframe tbody tr th {\n",
       "        vertical-align: top;\n",
       "    }\n",
       "\n",
       "    .dataframe thead th {\n",
       "        text-align: right;\n",
       "    }\n",
       "</style>\n",
       "<table border=\"1\" class=\"dataframe\">\n",
       "  <thead>\n",
       "    <tr style=\"text-align: right;\">\n",
       "      <th></th>\n",
       "      <th>Storage Cost ($/TB/month)</th>\n",
       "      <th>Transfer Cost ($/GB)</th>\n",
       "      <th>Query Cost ($/1,000 queries)</th>\n",
       "      <th>Maintenance Cost ($/month)</th>\n",
       "    </tr>\n",
       "    <tr>\n",
       "      <th>architecture</th>\n",
       "      <th></th>\n",
       "      <th></th>\n",
       "      <th></th>\n",
       "      <th></th>\n",
       "    </tr>\n",
       "  </thead>\n",
       "  <tbody>\n",
       "    <tr>\n",
       "      <th>Data Warehouse</th>\n",
       "      <td>300</td>\n",
       "      <td>0.1</td>\n",
       "      <td>0.50</td>\n",
       "      <td>50</td>\n",
       "    </tr>\n",
       "    <tr>\n",
       "      <th>Data Lake</th>\n",
       "      <td>50</td>\n",
       "      <td>0.1</td>\n",
       "      <td>1.00</td>\n",
       "      <td>30</td>\n",
       "    </tr>\n",
       "    <tr>\n",
       "      <th>Hybrid Data Lake</th>\n",
       "      <td>350</td>\n",
       "      <td>0.1</td>\n",
       "      <td>0.50</td>\n",
       "      <td>70</td>\n",
       "    </tr>\n",
       "    <tr>\n",
       "      <th>Lakehouse</th>\n",
       "      <td>80</td>\n",
       "      <td>0.1</td>\n",
       "      <td>0.75</td>\n",
       "      <td>30</td>\n",
       "    </tr>\n",
       "  </tbody>\n",
       "</table>\n",
       "</div>"
      ],
      "text/plain": [
       "                  Storage Cost ($/TB/month)  Transfer Cost ($/GB)  \\\n",
       "architecture                                                        \n",
       "Data Warehouse                          300                   0.1   \n",
       "Data Lake                                50                   0.1   \n",
       "Hybrid Data Lake                        350                   0.1   \n",
       "Lakehouse                                80                   0.1   \n",
       "\n",
       "                  Query Cost ($/1,000 queries)  Maintenance Cost ($/month)  \n",
       "architecture                                                                \n",
       "Data Warehouse                            0.50                          50  \n",
       "Data Lake                                 1.00                          30  \n",
       "Hybrid Data Lake                          0.50                          70  \n",
       "Lakehouse                                 0.75                          30  "
      ]
     },
     "execution_count": 64,
     "metadata": {},
     "output_type": "execute_result"
    }
   ],
   "source": [
    "import pandas as pd\n",
    "\n",
    "costs_information_dict = {\n",
    "    \"architecture\": [\"Data Warehouse\", \"Data Lake\", \"Hybrid Data Lake\", \"Lakehouse\"],\n",
    "    \"Storage Cost ($/TB/month)\": [300, 50, 350, 80],\n",
    "    \"Transfer Cost ($/GB)\": [0.1,0.1,0.1,0.1],\n",
    "    \"Query Cost ($/1,000 queries)\": [0.5, 1, 0.5, 0.75],\n",
    "    \"Maintenance Cost ($/month)\": [50, 30, 70, 30],\n",
    "}\n",
    "\n",
    "costs = pd.DataFrame(costs_information_dict)\n",
    "costs = costs.set_index('architecture')\n",
    "\n",
    "costs"
   ]
  },
  {
   "cell_type": "markdown",
   "metadata": {},
   "source": [
    "## Usage Information\n",
    "\n",
    "1.\tData Sources (Data Source Costs and Transfer Costs)\n",
    "\t- Source A:\n",
    "\t\t- Produces 10 GB of data daily.\n",
    "\t\t- Acquisition cost: $0.2/GB.\n",
    "\t- Source B:\n",
    "\t\t- Produces 100 GB of data weekly.\n",
    "\t\t- Acquisition cost: $0.1/GB.\n",
    "\t- Source C:\n",
    "\t\t- Produces 20 GB of data monthly.\n",
    "\t\t- Acquisition cost: $1/GB.\n",
    "2. Data Storage (Storage Costs)\n",
    "\t- Historical data is kept for 2 years, with a monthly data growth rate of 20GB:\n",
    "\t- Year 1: 100 TB\n",
    "\t- Year 2: 150 TB\n",
    "3. Query Patterns (Query Costs)\n",
    "\t- Type 1 Queries: Run 1,000 times per day.\n",
    "\t- Type 2 Queries: Run 10,000 times per week.\n",
    "\t- Type 3 Queries: Run 15,000 times per month."
   ]
  },
  {
   "cell_type": "markdown",
   "metadata": {},
   "source": [
    "## Task\n",
    "\n",
    "### Calculate Total Monthly Costs\n",
    "For each architecture, calculate the total cost within 2 years of:\n",
    "- Data source acquisition\n",
    "- Data storage\n",
    "- Data source transfers\n",
    "- Querying the data\n",
    "- Maintenance/administration\n",
    "\t\n",
    "### Compare Architectures\n",
    "Based on the costs you calculated, identify which architecture is expected to be the most cost-efficient for the company within 2 years.\n",
    "\n",
    "### Recommendation\n",
    "Write a short explanation justifying your choice of architecture. Take also other factors into consideration, e.g. performance, scalability."
   ]
  },
  {
   "cell_type": "code",
   "execution_count": null,
   "metadata": {},
   "outputs": [],
   "source": [
    "# Your code here"
   ]
  },
  {
   "cell_type": "markdown",
   "metadata": {},
   "source": [
    "# Bonus Exercise\n",
    "\n",
    "Assume after 6 month there was an incident. You lost all your _mart data_ due to an error in the transformation process. Unfortunately, you did not design a backup system. But it was a lesson for you, now you add a backup system, which means you add a copy of your database, a so called RAID I system (just assume a doubled storage price).\n",
    "\n",
    "Additionally you realized after one year, you need to make a major update of the schema in the data warehouse, to fulfill all requirements. For this, you need all the raw data from the beginning which is not part of the actual data marts. In all the misfortune, you are somewhat lucky because the 'old' raw data is still available in the sources, i.e. for source A you have not only access to the 10GB which is produced on a daily basis but you also can access the data of the last 6 months and re-load it.\n",
    "\n",
    "## Task\n",
    "\n",
    "Calculate the costs for 2 years (take the events into account) for the different architectures. Welche Architektur ist jetzt stark im Preis gestiegen und hat keine guten"
   ]
  },
  {
   "cell_type": "markdown",
   "metadata": {},
   "source": []
  }
 ],
 "metadata": {
  "kernelspec": {
   "display_name": "msb_lecture-tqAp08WJ",
   "language": "python",
   "name": "python3"
  },
  "language_info": {
   "codemirror_mode": {
    "name": "ipython",
    "version": 3
   },
   "file_extension": ".py",
   "mimetype": "text/x-python",
   "name": "python",
   "nbconvert_exporter": "python",
   "pygments_lexer": "ipython3",
   "version": "3.11.6"
  }
 },
 "nbformat": 4,
 "nbformat_minor": 2
}
