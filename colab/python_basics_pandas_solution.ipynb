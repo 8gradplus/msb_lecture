{
 "cells": [
  {
   "cell_type": "markdown",
   "metadata": {},
   "source": [
    "# Python & Pandas Basics – The Electric Vehicle Showdown ⚡🚗\n",
    "\n",
    "\n",
    "Welcome to the Python & Pandas Basics Tutorial! Today, we’ll be using data on electric vehicles to learn Python fundamentals.\n",
    "\n",
    "The goal? To use Python as a powerful alternative to spreadsheets and manual analysis!\n"
   ]
  },
  {
   "cell_type": "markdown",
   "metadata": {},
   "source": [
    "## Exercise 1: Electric Vehicle Models & Lists 🚙🔋"
   ]
  },
  {
   "cell_type": "code",
   "execution_count": 47,
   "metadata": {},
   "outputs": [],
   "source": [
    "# We have a list of popular electric vehicle (EV) models:\n",
    "ev_models = [\"Tesla Model S\", \"Nissan Leaf\", \"Chevrolet Bolt\", \"BMW i3\", \"Audi e-Tron\",\n",
    "             \"Jaguar I-PACE\", \"Hyundai Kona EV\", \"Volkswagen ID.4\", \"Ford Mustang Mach-E\", \"Porsche Taycan\"]"
   ]
  },
  {
   "cell_type": "code",
   "execution_count": null,
   "metadata": {},
   "outputs": [],
   "source": [
    "# Task 1: Print all models to see the list of EVs.\n",
    "print(\"🚗 EV Models:\", ev_models)"
   ]
  },
  {
   "cell_type": "code",
   "execution_count": null,
   "metadata": {},
   "outputs": [],
   "source": [
    "# Task 2: Retrieve the first and last EV model and print them with a message.\n",
    "first_ev = ev_models[0]\n",
    "last_ev = ev_models[-1]\n",
    "print(\"The first EV in our collection:\", first_ev)\n",
    "print(\"The last EV in our collection:\", last_ev)"
   ]
  },
  {
   "cell_type": "code",
   "execution_count": null,
   "metadata": {},
   "outputs": [],
   "source": [
    "# Task 3: Imagine these models have a new 2024 edition! Add \"2024 Edition\" to each model and print the updated list.\n",
    "new_models = [model + \" 2024 Edition\" for model in ev_models]\n",
    "print(\"🚙 Updated EV Models:\", new_models)\n"
   ]
  },
  {
   "cell_type": "markdown",
   "metadata": {},
   "source": [
    "## Exercise 2: Simple Math with EV Range (in Miles) 🌍🔋"
   ]
  },
  {
   "cell_type": "code",
   "execution_count": 51,
   "metadata": {},
   "outputs": [],
   "source": [
    "# Here’s a list of driving ranges (in kilometers) for each EV model above.\n",
    "ranges = [575, 340, 417, 307, 545, 380, 390, 445, 480, 495]"
   ]
  },
  {
   "cell_type": "code",
   "execution_count": null,
   "metadata": {},
   "outputs": [],
   "source": [
    "# Task 1: Calculate and print the average driving range of these EVs.\n",
    "# Hint:\n",
    "# First do by using a for loop. Sum up the ranges and count the number of entries within the for loop.\n",
    "# Then try to find a short version with functions defined on the list itself.\n",
    "\n",
    "print(\"Using a foor loop:\")\n",
    "sum_ranges = 0\n",
    "cnt_entries = 0\n",
    "for range in ranges:\n",
    "    sum_ranges = sum_ranges + range\n",
    "    cnt_entries = cnt_entries + 1\n",
    "average_range = sum_ranges / cnt_entries\n",
    "print(\"🔋 Average EV Range (kilometer):\", average_range)\n",
    "\n",
    "print(\"\\n\\nUsing list functions:\")\n",
    "average_range = sum(ranges) / len(ranges)\n",
    "print(\"🔋 Average EV Range (kilometer):\", average_range)"
   ]
  },
  {
   "cell_type": "code",
   "execution_count": null,
   "metadata": {},
   "outputs": [],
   "source": [
    "# Task 2: Find and print the longest and shortest ranges with context.\n",
    "max_range = max(ranges)\n",
    "min_range = min(ranges)\n",
    "print(\"🏆 Longest Range (miles):\", max_range)\n",
    "print(\"💡 Shortest Range (miles):\", min_range)"
   ]
  },
  {
   "cell_type": "code",
   "execution_count": null,
   "metadata": {},
   "outputs": [],
   "source": [
    "# Task 3: Find the difference in miles between the longest and shortest ranges.\n",
    "range_difference = max_range - min_range\n",
    "print(\"📏 Range Difference (miles):\", range_difference)"
   ]
  },
  {
   "cell_type": "markdown",
   "metadata": {},
   "source": [
    "## Exercise 3: Creating an EV Database with Dictionaries 📊"
   ]
  },
  {
   "cell_type": "code",
   "execution_count": null,
   "metadata": {},
   "outputs": [],
   "source": [
    "# Task 1: Pair each EV model with its driving range using a dictionary called `ev_database`.\n",
    "ev_database = dict(zip(ev_models, ranges))\n",
    "print(\"🔋 EV Database:\", ev_database)"
   ]
  },
  {
   "cell_type": "code",
   "execution_count": null,
   "metadata": {},
   "outputs": [],
   "source": [
    "# Task 2: Check if \"Tesla Model S\" is in the database and print its range if found.\n",
    "if \"Tesla Model S\" in ev_database:\n",
    "    print(\"🚀 Range for 'Tesla Model S':\", ev_database[\"Tesla Model S\"])"
   ]
  },
  {
   "cell_type": "code",
   "execution_count": null,
   "metadata": {},
   "outputs": [],
   "source": [
    "# Task 3: A new EV called \"Lucid Air\" with a range of 516 miles has launched! Add it to the database and print the updated dictionary.\n",
    "ev_database[\"Lucid Air\"] = 665\n",
    "print(\"Updated EV Database:\", ev_database)"
   ]
  },
  {
   "cell_type": "markdown",
   "metadata": {},
   "source": [
    "## Exercise 4: Using a For Loop for High-Range EVs 🔋🏆"
   ]
  },
  {
   "cell_type": "code",
   "execution_count": null,
   "metadata": {},
   "outputs": [],
   "source": [
    "# Let’s use a for loop to find EVs with a range of 400 kilometers or higher. We'll call these \"Long-Range EVs.\"\n",
    "long_range_evs = []\n",
    "for model, range_miles in ev_database.items():\n",
    "    if range_miles >= 400:\n",
    "        long_range_evs.append(model)\n",
    "print(\"🚗 Long-Range EVs:\", long_range_evs)"
   ]
  },
  {
   "cell_type": "markdown",
   "metadata": {},
   "source": [
    "## Exercise 5: Introducing Functions with Charging Cost Calculations 💸"
   ]
  },
  {
   "cell_type": "code",
   "execution_count": 60,
   "metadata": {},
   "outputs": [],
   "source": [
    "# Let’s create a function to calculate the cost to fully charge an EV based on its range and battery efficiency.\n",
    "# Assume an electricity cost of 0.31€ per kWh and a battery efficiency of 8 kilometers per kWh.\n",
    "\n",
    "def calculate_charging_cost(range_kilometers):\n",
    "    kWh_needed = range_kilometers / 8  # miles per kWh\n",
    "    cost = kWh_needed * 0.31\n",
    "    return round(cost, 2)\n"
   ]
  },
  {
   "cell_type": "code",
   "execution_count": null,
   "metadata": {},
   "outputs": [],
   "source": [
    "# Test the function with the range for \"Tesla Model S\"\n",
    "charging_cost_tesla = calculate_charging_cost(ev_database[\"Tesla Model S\"])\n",
    "print(\"💵 Charging Cost for 'Tesla Model S': €\", charging_cost_tesla)\n"
   ]
  },
  {
   "cell_type": "markdown",
   "metadata": {},
   "source": [
    "## Exercise 6: Data Analysis with Pandas 📊\n"
   ]
  },
  {
   "cell_type": "code",
   "execution_count": 134,
   "metadata": {},
   "outputs": [],
   "source": [
    "# Creating a dictionary with EV data:\n",
    "data = {\n",
    "    \"Model\": ev_models,\n",
    "    \"RangeKilometers\": ranges,\n",
    "    \"BatteryCapacity_kWh\": ['95', '59', '66', '42', '97', '84.7', '65.4', '77', '91', '97'],\n",
    "    \"Price_Euro\": [94990, 35900, 26400, 39900, 74700, 92400, 32800, 47666, 65900, 106400]\n",
    "}"
   ]
  },
  {
   "cell_type": "code",
   "execution_count": null,
   "metadata": {},
   "outputs": [],
   "source": [
    "# Task 1: Let's create a pandas dataframe using the dictionary\n",
    "import pandas as pd\n",
    "\n",
    "df = pd.DataFrame(data)\n",
    "print(\"🚗 EV Data DataFrame:\\n\", df)"
   ]
  },
  {
   "cell_type": "code",
   "execution_count": null,
   "metadata": {},
   "outputs": [],
   "source": [
    "# Task 2: Create a column 'Brand' by transforming the column 'Model'.\n",
    "# Hint: It's always the first word which corresponds to the brand.\n",
    "df['Brand'] = df['Model'].apply(lambda model: model.split()[0])\n",
    "print(df)"
   ]
  },
  {
   "cell_type": "code",
   "execution_count": null,
   "metadata": {},
   "outputs": [],
   "source": [
    "# Task 3: Calculate the total range miles across all EVs using pandas\n",
    "total_range = df[\"RangeKilometers\"].sum()\n",
    "print(\"Total Range (miles):\", total_range)\n",
    "\n"
   ]
  },
  {
   "cell_type": "code",
   "execution_count": null,
   "metadata": {},
   "outputs": [],
   "source": [
    "# Task 4: Create a column called 'ClassRange' with short_range (<= 400 kilometers) and long_range (> 400 kilometers)\n",
    "df['ClassRange'] = 'short_range'\n",
    "df.loc[df['RangeKilometers'] > 400, 'ClassRange'] = 'long_range'\n",
    "print(df)"
   ]
  },
  {
   "cell_type": "code",
   "execution_count": null,
   "metadata": {},
   "outputs": [],
   "source": [
    "# Task 5: Calculate the average price for all long range and short range cars\n",
    "average_price_per_range = df.groupby(\"ClassRange\")[\"Price_Euro\"].mean()\n",
    "print(\"Average Price per range class:\\n\", average_price_per_range)"
   ]
  },
  {
   "cell_type": "code",
   "execution_count": null,
   "metadata": {},
   "outputs": [],
   "source": [
    "# Task 6: Find the EV with the highest battery capacity\n",
    "highest_capacity_ev = df.loc[df[\"BatteryCapacity_kWh\"].idxmax()]\n",
    "print(\"EV with Highest Battery Capacity:\\n\", highest_capacity_ev)\n"
   ]
  },
  {
   "cell_type": "code",
   "execution_count": null,
   "metadata": {},
   "outputs": [],
   "source": [
    "# Task 7: Which car is the most or least efficient, i.e. which car requires the least and most kwh / kilometer?\n",
    "\n",
    "# Hint: Sometimes the data type is not appropriate to support a mathematical operation.\n",
    "# E.g. the 'BatteryCapacity_kWh' column is initialized as a string. It's not possible to divide a numeric value\n",
    "# with an int. Therefore we first need to transform this column into a numeric one.\n",
    "# So first print out the (d)types of each column, then transform the BatteryCapacity_kWh column into a\n",
    "# numeric one and finally solve the task.\n",
    "print('Before transformation')\n",
    "print(df.dtypes)\n",
    "df['BatteryCapacity_kWh'] = df['BatteryCapacity_kWh'].astype(float)\n",
    "print('After transformation')\n",
    "print(df.dtypes)\n",
    "\n",
    "df['efficiency'] = df['BatteryCapacity_kWh'] / df['RangeKilometers']\n",
    "print(df)"
   ]
  },
  {
   "cell_type": "code",
   "execution_count": null,
   "metadata": {},
   "outputs": [],
   "source": [
    "# Task 8\n",
    "# Create 4 new columns, which calculates the costs for 50.000, 100.000,\n",
    "# 500.000 and 1.000.000 kilometers for each car.\n",
    "# We want to include the car's acquisition costs and\n",
    "# the costs for electric power. Please assume a price of 0.31€ per kwh.\n",
    "df['costs_50k'] = df['BatteryCapacity_kWh'] / df['RangeKilometers'] * 0.31 * 50000 + df['Price_Euro']\n",
    "df['costs_100k'] = df['BatteryCapacity_kWh'] / df['RangeKilometers'] * 0.31 * 100000 + df['Price_Euro']\n",
    "df['costs_500k'] = df['BatteryCapacity_kWh'] / df['RangeKilometers'] * 0.31 * 500000 + df['Price_Euro']\n",
    "df['costs_1000k'] = df['BatteryCapacity_kWh'] / df['RangeKilometers'] * 0.31 * 1000000 + df['Price_Euro']\n",
    "print(df)\n"
   ]
  },
  {
   "cell_type": "code",
   "execution_count": null,
   "metadata": {},
   "outputs": [],
   "source": [
    "# Task 9: Sort the dataframe according to the 50k and 1000k colunm. Does the order change? What does that mean?\n",
    "df_sorted_50 = df.sort_values(by='costs_50k')\n",
    "print(df_sorted_50)\n",
    "df_sorted_1000 = df.sort_values(by='costs_1000k')\n",
    "print(df_sorted_1000)"
   ]
  },
  {
   "cell_type": "code",
   "execution_count": null,
   "metadata": {},
   "outputs": [],
   "source": [
    "# Task 10: Please filter all cars which have a price less than 50.000€, a range more than 360 km and a battery capacity of less than 70kWh.\n",
    "# Hint: You can use either the 'query' function of a pandas dataframe or chaining the boolean index.\n",
    "\n",
    "print('Using the query function:')\n",
    "print(df.query('Price_Euro < 50000 and RangeKilometers > 360 and BatteryCapacity_kWh < 70'))\n",
    "\n",
    "print('\\n\\n\\nChaining the boolean index:')\n",
    "print(df[(df['Price_Euro'] < 50000) & (df['RangeKilometers'] > 360) & (df['BatteryCapacity_kWh'] < 70)])"
   ]
  },
  {
   "cell_type": "code",
   "execution_count": null,
   "metadata": {},
   "outputs": [],
   "source": [
    "# [Bonus] Task 11\n",
    "# Is there a correlation between the range of a car and its price?\n",
    "\n",
    "# One way of answering this question is to make a plot with a correlation line:\n",
    "import matplotlib.pyplot as plt\n",
    "import numpy as np\n",
    "\n",
    "rng = np.random.default_rng(1234)\n",
    "\n",
    "\n",
    "x = df['RangeKilometers'].to_numpy()\n",
    "y = df['Price_Euro'].to_numpy()\n",
    "\n",
    "# Initialize layout\n",
    "fig, ax = plt.subplots(figsize=(9, 9))\n",
    "\n",
    "# Add scatterplot\n",
    "ax.scatter(x, y, s=60, alpha=0.7, edgecolors=\"k\")\n",
    "\n",
    "# Fit linear regression via least squares with numpy.polyfit\n",
    "# It returns an slope (b) and intercept (a)\n",
    "# deg=1 means linear fit (i.e. polynomial of degree 1)\n",
    "b, a = np.polyfit(x, y, deg=1)\n",
    "\n",
    "# Create sequence of 100 numbers from 0 to 100\n",
    "xseq = np.linspace(min(x), max(x), num=100)\n",
    "\n",
    "# Plot regression line\n",
    "ax.plot(xseq, a + b * xseq, color=\"k\", lw=2.5)"
   ]
  }
 ],
 "metadata": {
  "kernelspec": {
   "display_name": "msb_lecture-tqAp08WJ",
   "language": "python",
   "name": "python3"
  },
  "language_info": {
   "codemirror_mode": {
    "name": "ipython",
    "version": 3
   },
   "file_extension": ".py",
   "mimetype": "text/x-python",
   "name": "python",
   "nbconvert_exporter": "python",
   "pygments_lexer": "ipython3",
   "version": "3.11.6"
  }
 },
 "nbformat": 4,
 "nbformat_minor": 2
}
